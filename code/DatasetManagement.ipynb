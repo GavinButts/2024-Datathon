{
  "nbformat": 4,
  "nbformat_minor": 0,
  "metadata": {
    "colab": {
      "provenance": []
    },
    "kernelspec": {
      "name": "python3",
      "display_name": "Python 3"
    },
    "language_info": {
      "name": "python"
    }
  },
  "cells": [
    {
      "cell_type": "code",
      "execution_count": 44,
      "metadata": {
        "id": "Fq3BNobtXR8v"
      },
      "outputs": [],
      "source": [
        "import pandas as pd"
      ]
    },
    {
      "cell_type": "code",
      "source": [
        "df = pd.read_csv(\"final_dataset.csv\")"
      ],
      "metadata": {
        "id": "YFyGjijoddST"
      },
      "execution_count": 45,
      "outputs": []
    },
    {
      "cell_type": "code",
      "source": [
        "column_names = list(df.columns)\n",
        "for i in sorted(column_names):\n",
        "  print(i)"
      ],
      "metadata": {
        "colab": {
          "base_uri": "https://localhost:8080/"
        },
        "id": "BAPXcmtKdiZj",
        "outputId": "8ba70536-d9f2-4444-f097-dc124b628832"
      },
      "execution_count": 46,
      "outputs": [
        {
          "output_type": "stream",
          "name": "stdout",
          "text": [
            "american_indian_owned_business\n",
            "asian_pacific_american_owned_business\n",
            "awarding_agency_name\n",
            "awarding_office_name\n",
            "awarding_sub_agency_name\n",
            "black_american_owned_business\n",
            "c8a_program_participant\n",
            "corporate_entity_tax_exempt\n",
            "current_total_value_of_award\n",
            "domestic_or_foreign_entity\n",
            "economically_disadvantaged_women_owned_small_business\n",
            "emerging_small_business\n",
            "federal_action_obligation\n",
            "for_profit_organization\n",
            "foreign_owned\n",
            "funding_agency_name\n",
            "funding_office_name\n",
            "funding_sub_agency_name\n",
            "hispanic_american_owned_business\n",
            "initial_report_date\n",
            "minority_owned_business\n",
            "native_american_owned_business\n",
            "native_hawaiian_organization_owned_firm\n",
            "nonprofit_organization\n",
            "number_of_offers_received\n",
            "other_minority_owned_business\n",
            "parent_award_agency_name\n",
            "partnership_or_limited_liability_partnership\n",
            "potential_total_value_of_award\n",
            "primary_place_of_performance_city_name\n",
            "primary_place_of_performance_country_name\n",
            "primary_place_of_performance_state_name\n",
            "recipient_address_line_1\n",
            "recipient_address_line_2\n",
            "recipient_city_name\n",
            "recipient_country_name\n",
            "recipient_county_name\n",
            "recipient_name\n",
            "recipient_state_name\n",
            "self_certified_small_disadvantaged_business\n",
            "service_disabled_veteran_owned_business\n",
            "small_business_competitiveness_demonstration_program\n",
            "small_disadvantaged_business\n",
            "sole_proprietorship\n",
            "subcontinent_asian_asian_indian_american_owned_business\n",
            "total_dollars_obligated\n",
            "total_outlayed_amount_for_overall_award\n",
            "veteran_owned_business\n",
            "woman_owned_business\n",
            "women_owned_small_business\n",
            "year\n"
          ]
        }
      ]
    },
    {
      "cell_type": "code",
      "source": [
        "df['american_indian_owned_business'] = df['american_indian_owned_business'].map({'t': 1, 'f': 0})\n",
        "df['asian_pacific_american_owned_business'] = df['asian_pacific_american_owned_business'].map({'t': 1, 'f': 0})\n",
        "df['black_american_owned_business'] = df['black_american_owned_business'].map({'t': 1, 'f': 0})\n",
        "df['c8a_program_participant'] = df['c8a_program_participant'].map({'t': 1, 'f': 0})\n",
        "df['corporate_entity_tax_exempt'] = df['corporate_entity_tax_exempt'].map({'t': 1, 'f': 0})\n",
        "df['economically_disadvantaged_women_owned_small_business'] = df['economically_disadvantaged_women_owned_small_business'].map({'t': 1, 'f': 0})\n",
        "df['emerging_small_business'] = df['emerging_small_business'].map({'t': 1, 'f': 0})\n",
        "df['for_profit_organization'] = df['for_profit_organization'].map({'t': 1, 'f': 0})\n",
        "df['foreign_owned'] = df['foreign_owned'].map({'t': 1, 'f': 0})\n",
        "df['hispanic_american_owned_business'] = df['hispanic_american_owned_business'].map({'t': 1, 'f': 0})\n",
        "df['minority_owned_business'] = df['minority_owned_business'].map({'t': 1, 'f': 0})\n",
        "df['native_american_owned_business'] = df['native_american_owned_business'].map({'t': 1, 'f': 0})\n",
        "df['native_hawaiian_organization_owned_firm'] = df['native_hawaiian_organization_owned_firm'].map({'t': 1, 'f': 0})\n",
        "df['nonprofit_organization'] = df['nonprofit_organization'].map({'t': 1, 'f': 0})\n",
        "df['other_minority_owned_business'] = df['other_minority_owned_business'].map({'t': 1, 'f': 0})\n",
        "df['partnership_or_limited_liability_partnership'] = df['partnership_or_limited_liability_partnership'].map({'t': 1, 'f': 0})\n",
        "df['self_certified_small_disadvantaged_business'] = df['self_certified_small_disadvantaged_business'].map({'t': 1, 'f': 0})\n",
        "df['service_disabled_veteran_owned_business'] = df['service_disabled_veteran_owned_business'].map({'t': 1, 'f': 0})\n",
        "df['small_business_competitiveness_demonstration_program'] = df['small_business_competitiveness_demonstration_program'].map({'t': 1, 'f': 0})\n",
        "df['small_disadvantaged_business'] = df['small_disadvantaged_business'].map({'t': 1, 'f': 0})\n",
        "df['sole_proprietorship'] = df['sole_proprietorship'].map({'t': 1, 'f': 0})\n",
        "df['subcontinent_asian_asian_indian_american_owned_business'] = df['subcontinent_asian_asian_indian_american_owned_business'].map({'t': 1, 'f': 0})\n",
        "df['veteran_owned_business'] = df['veteran_owned_business'].map({'t': 1, 'f': 0})\n",
        "df['woman_owned_business'] = df['woman_owned_business'].map({'t': 1, 'f': 0})\n",
        "df['women_owned_small_business'] = df['women_owned_small_business'].map({'t': 1, 'f': 0})"
      ],
      "metadata": {
        "id": "QiVkJowtfCX_"
      },
      "execution_count": 47,
      "outputs": []
    },
    {
      "cell_type": "code",
      "source": [
        "columns_to_drop = [\"awarding_agency_name\",\n",
        "                   \"awarding_office_name\",\n",
        "                   \"awarding_sub_agency_name\",\n",
        "                   \"domestic_or_foreign_entity\",\n",
        "                   \"funding_agency_name\",\n",
        "                   \"funding_office_name\",\n",
        "                   \"funding_sub_agency_name\",\n",
        "                   \"initial_report_date\",\n",
        "                   \"number_of_offers_received\",\n",
        "                   \"parent_award_agency_name\",\n",
        "                   \"primary_place_of_performance_city_name\",\n",
        "                   \"primary_place_of_performance_country_name\",\n",
        "                   \"primary_place_of_performance_state_name\",\n",
        "                   \"recipient_address_line_1\",\n",
        "                   \"recipient_address_line_2\",\n",
        "                   \"recipient_city_name\",\n",
        "                   \"recipient_country_name\",\n",
        "                   \"recipient_county_name\",\n",
        "                   \"recipient_name\",\n",
        "                   \"recipient_state_name\",\n",
        "                   \"small_business_competitiveness_demonstration_program\",\n",
        "                   ]\n",
        "\n",
        "df = df.drop(columns=columns_to_drop)"
      ],
      "metadata": {
        "id": "lW8lNhrtfukD"
      },
      "execution_count": 48,
      "outputs": []
    },
    {
      "cell_type": "code",
      "source": [
        "df.to_csv('df.csv', index=False)"
      ],
      "metadata": {
        "id": "DfG9wC7QjCKK"
      },
      "execution_count": 49,
      "outputs": []
    },
    {
      "cell_type": "code",
      "source": [
        "missing_values = df.isnull().sum()\n",
        "missing_percentage = (df.isnull().sum() / len(df)) * 100\n",
        "missing_values_df = pd.DataFrame({'Missing Values': missing_values, 'Percentage': missing_percentage})\n",
        "print(missing_values_df[missing_values_df['Missing Values'] > 0])"
      ],
      "metadata": {
        "colab": {
          "base_uri": "https://localhost:8080/"
        },
        "id": "fq1UZLaaowAb",
        "outputId": "29c49805-63d9-426c-f927-3a0d392037ad"
      },
      "execution_count": 50,
      "outputs": [
        {
          "output_type": "stream",
          "name": "stdout",
          "text": [
            "                                         Missing Values  Percentage\n",
            "current_total_value_of_award                     194043   67.471626\n",
            "potential_total_value_of_award                   187570   65.220868\n",
            "total_dollars_obligated                          189293   65.819981\n",
            "total_outlayed_amount_for_overall_award          240080   83.479374\n"
          ]
        }
      ]
    }
  ]
}